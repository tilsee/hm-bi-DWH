{
 "cells": [
  {
   "cell_type": "markdown",
   "metadata": {},
   "source": [
    "# Pipeline"
   ]
  },
  {
   "cell_type": "code",
   "execution_count": null,
   "metadata": {},
   "outputs": [],
   "source": [
    "#!pip install mysql-connector-python"
   ]
  },
  {
   "cell_type": "code",
   "execution_count": 15,
   "metadata": {},
   "outputs": [],
   "source": [
    "import pandas as pd\n",
    "import numpy as np\n",
    "import re    \n",
    "from time import time\n",
    "from datetime import datetime \n",
    "import datavaultlib as dvl\n",
    "#dvl.clean_all() #uncomment to delete project-database and start from scratch"
   ]
  },
  {
   "cell_type": "markdown",
   "metadata": {},
   "source": [
    "# Create DB Connection  "
   ]
  },
  {
   "cell_type": "code",
   "execution_count": 60,
   "metadata": {},
   "outputs": [],
   "source": [
    "#Loading Database MariaDB\n",
    "connection, cursor =dvl.db_con()\n",
    "#Setting global LOAD_DTS value\n",
    "LOAD_DTS = str(datetime.now())"
   ]
  },
  {
   "cell_type": "markdown",
   "metadata": {},
   "source": [
    "# Creating Staging Schema and Tables\n",
    "\n",
    "## Creating Tables"
   ]
  },
  {
   "cell_type": "code",
   "execution_count": 17,
   "metadata": {},
   "outputs": [],
   "source": [
    "#Creating Tables\n",
    "stagingschema=\"bi_staging\"\n",
    "tableAuftraege=\"Staging_Auftraege\"\n",
    "cursor.execute(f'''CREATE SCHEMA IF NOT EXISTS {stagingschema}''')\n",
    "columns=[\"LOAD_DTS TIMESTAMP\", \n",
    "        \"Auftragsnummer INT PRIMARY KEY\",\n",
    "        \"Datum varchar(64)\",\"Kundennummer INT\",\n",
    "        \"Kundenname varchar(64)\",\" Strasse varchar(64)\",\n",
    "        \"PLZ varchar(10)\",\n",
    "        \"Ort varchar(64)\",\n",
    "        \"BundeslandKurz varchar(64)\",\n",
    "        \"Bundesland varchar(64)\",\n",
    "        \"LandKurz varchar(64)\",\n",
    "        \"Land varchar(64)\",\n",
    "        \"Laengengrad varchar(64)\",\n",
    "        \"Breitengrad varchar(64)\",\n",
    "        \"Produktnummer INT\",\n",
    "        \"Produktbezeichnung varchar(64)\",\n",
    "        \"Verkaufspreis REAL\",\n",
    "        \"Einkaufspreis REAL\",\n",
    "        \"Jahrgang INT\",\n",
    "        \"Herkunftsland varchar(64)\",\n",
    "        \"Sortenkennzeichen varchar(64)\",\n",
    "        \"Rebsorte varchar(64)\",\n",
    "        \"Verkaeufernummer INT\",\n",
    "        \"Verkaeufername varchar(64)\",\n",
    "        \"Bereichsnummer INT\",\n",
    "        \"Bereichsbezeichnung varchar(64)\",\n",
    "        \"Provisionsfaktor REAL\",\n",
    "        \"Stueckzahl INT\",\n",
    "        \"Umsatz REAL\",\n",
    "        \"Kosten REAL\",\n",
    "        \"SRC varchar(64)\"]\n",
    "dvl.createtbl(schema=stagingschema,table=tableAuftraege, columns=columns, droptbl=False)"
   ]
  },
  {
   "cell_type": "code",
   "execution_count": 18,
   "metadata": {},
   "outputs": [],
   "source": [
    "tablePlanzahlen=\"Staging_Planzahlen\"\n",
    "columns=[\n",
    "    \"LOAD_DTS TIMESTAMP\",\n",
    "    \"Jahr INT\",\n",
    "    \"Monat INT\",\n",
    "    \"Verkaeufernummer INT\",\n",
    "    \"Rebsorte varchar(20)\",\n",
    "    \"Stueckzahl INT\",\n",
    "    \"SRC varchar(64)\"\n",
    "]\n",
    "dvl.createtbl(schema=stagingschema,table=tablePlanzahlen, columns=columns,droptbl=False)"
   ]
  },
  {
   "cell_type": "markdown",
   "metadata": {},
   "source": [
    "## Loading Data"
   ]
  },
  {
   "cell_type": "code",
   "execution_count": 19,
   "metadata": {},
   "outputs": [],
   "source": [
    "#Loading and pre-processing Auftraege Data\n",
    "srcAuf=\"AuftraegeNew.csv\"\n",
    "df_Auf = pd.read_csv(f\"../Data/{srcAuf}\",sep=\"','\", engine=\"python\",encoding='latin1')\n",
    "#Removing quotationmarks\n",
    "df_Auf[\"'Auftragsnummer\"].replace(\"(')\",\"\",regex=True,inplace=True)\n",
    "df_Auf[\"Kosten'\"].replace(\"(')\",\"\",regex=True,inplace=True)\n",
    "columns=list(df_Auf.columns)\n",
    "columns[0]=\"Auftragsnummer\"\n",
    "columns[-1]=\"Kosten\"\n",
    "df_Auf.columns=columns\n",
    "#replacing decimal comma by point\n",
    "for col in ['Kosten', 'Umsatz', 'Provisionsfaktor','Einkaufspreis','Verkaufspreis','Breitengrad','Laengengrad']:\n",
    "    df_Auf[col] = pd.to_numeric(df_Auf[col].apply(lambda x: re.sub(',', '.', str(x))))\n",
    "#Filling NaN Values in BundelandKurz Column\n",
    "df_Auf.BundeslandKurz =df_Auf[[\"BundeslandKurz\"]].fillna(0)\n",
    "\n",
    "\n",
    "#Defining Column Order for DB Insert\n",
    "columns_Auftraege=['LOAD_DTS', 'Auftragsnummer', 'Datum', 'Kundennummer', 'Kundenname', 'Strasse',\n",
    "       'PLZ', 'Ort', 'BundeslandKurz', 'Bundesland', 'LandKurz', 'Land',\n",
    "       'Laengengrad', 'Breitengrad', 'Produktnummer', 'Produktbezeichnung',\n",
    "       'Verkaufspreis', 'Einkaufspreis', 'Jahrgang', 'Herkunftsland',\n",
    "       'Sortenkennzeichen', 'Rebsorte', 'Verkaeufernummer', 'Verkaeufername',\n",
    "       'Bereichsnummer', 'Bereichsbezeichnung', 'Provisionsfaktor',\n",
    "       'Stueckzahl', 'Umsatz', 'Kosten','SRC']\n",
    "df_Auf[\"LOAD_DTS\"] = LOAD_DTS\n",
    "df_Auf[\"SRC\"]=srcAuf\n",
    "df_Auf=df_Auf[columns_Auftraege]\n",
    "tableAuftraege=\"Staging_Auftraege\"\n",
    "#Prepare Data for DB Insert\n",
    "columns_Auftraege=list(df_Auf.columns)\n",
    "AuftraegeLst= [tuple(row.values) for idx, row in df_Auf.iterrows()]"
   ]
  },
  {
   "cell_type": "code",
   "execution_count": 20,
   "metadata": {},
   "outputs": [
    {
     "name": "stdout",
     "output_type": "stream",
     "text": [
      "1062 (23000): Duplicate entry '1' for key 'PRIMARY' 0 ('2021-12-13 09:48:54.847976', '1', '01.01.2012', 200040, 'abacus-wein.de', 'Am Binsengrund 33', '70839', 'Gerlingen', 'BW', 'Baden-Württemberg', 'D', 'Deutschland', 9.05, 48.79, 100340, 'Côtes du Rhone E. Guigal', 10.69, 7.87, 2011, 'Frankreich', 'R01', 'Shiraz', 4, 'Stefan Busch', 5, 'Champagner/Sekt', 0.03, 6.0, 64.15, 47.2, 'AuftraegeNew.csv')\n",
      "1062 (23000): Duplicate entry '2' for key 'PRIMARY' 1 ('2021-12-13 09:48:54.847976', '2', '01.01.2012', 200050, 'Vinovero GmbH & Co.KG', 'Arnsberger Straße 47', '70372', 'Stuttgart', 'BW', 'Baden-Württemberg', 'D', 'Deutschland', 9.22, 48.81, 100380, 'Marie Vallé Spätburgunder', 57.83, 32.55, 2004, 'Deutschland', 'E02', 'Spätburgunder', 5, 'Harry Haller', 4, 'Exklusiv', 0.01, 6.0, 346.97, 195.31, 'AuftraegeNew.csv')\n",
      "1062 (23000): Duplicate entry '3' for key 'PRIMARY' 2 ('2021-12-13 09:48:54.847976', '3', '01.01.2012', 200100, 'Aix Vinum Niklas P. Kudlek', 'Finkenwalder Weg 3', '52062', 'Aachen', 'NW', 'Nordrhein-Westfalen', 'D', 'Deutschland', 6.09, 50.78, 100260, 'Pinot Grigio Armani', 4.88, 3.95, 2011, 'Italien', 'W03', 'Grauburgunder', 3, 'Ina Bender', 2, 'Weiße Weine', 0.03, 36.0, 175.74, 142.26, 'AuftraegeNew.csv')\n",
      "1062 (23000): Duplicate entry '4' for key 'PRIMARY' 3 ('2021-12-13 09:48:54.847976', '4', '01.01.2012', 200120, 'Alte Weinbörse GmbH', 'Grunowstraße 10', '80992', 'München', 'BY', 'Bayern', 'D', 'Deutschland', 11.52, 48.18, 100130, 'Grünhäuser Herrenberg Kabinett', 6.86, 6.32, 2010, 'Deutschland', 'W01', 'Riesling', 10, 'Nicole Schumann', 3, 'Rote Weine', 0.02, 90.0, 617.03, 569.05, 'AuftraegeNew.csv')\n",
      "1062 (23000): Duplicate entry '5' for key 'PRIMARY' 4 ('2021-12-13 09:48:54.847976', '5', '01.01.2012', 200130, 'Hanseatisches Wein- & Sekt-Kontor', 'Hannaweg 5', '25436', 'Tornesch', 'SH', 'Schleswig-Holstein', 'D', 'Deutschland', 9.73, 53.72, 100350, 'Domaines Ott Rouge Cru Classés', 15.64, 13.21, 2012, 'Frankreich', 'R02', 'Cabernet', 5, 'Harry Haller', 4, 'Exklusiv', 0.01, 12.0, 187.69, 158.56, 'AuftraegeNew.csv')\n",
      "1062 (23000): Duplicate entry '6' for key 'PRIMARY' 5 ('2021-12-13 09:48:54.847976', '6', '01.01.2012', 200200, 'Artevino', 'Loefer Weg 24', '45131', 'Essen', 'NW', 'Nordrhein-Westfalen', 'D', 'Deutschland', 7.0, 51.43, 100370, 'Chablis Premier Cru', 27.07, 24.76, 2008, 'Frankreich', 'W02', 'Chardonnay', 10, 'Nicole Schumann', 3, 'Rote Weine', 0.02, 120.0, 3248.64, 2971.73, 'AuftraegeNew.csv')\n",
      "0 records were added to Staging_Auftraege\n",
      "CPU times: user 45.1 ms, sys: 19.7 ms, total: 64.8 ms\n",
      "Wall time: 324 ms\n"
     ]
    }
   ],
   "source": [
    "%%time\n",
    "#Loading Data into DB\n",
    "dvl.add2db(schema=stagingschema,tblname=tableAuftraege, columns=columns_Auftraege, records=AuftraegeLst)\n",
    "\n",
    "#Freeing up memory\n",
    "del(AuftraegeLst)\n",
    "del(df_Auf)"
   ]
  },
  {
   "cell_type": "code",
   "execution_count": 21,
   "metadata": {},
   "outputs": [],
   "source": [
    "#Loading Planzahlen Data\n",
    "srcPLA=\"Planzahlen.csv\"\n",
    "df_Pla=pd.read_csv(f\"../Data/{srcPLA}\",quotechar=\"'\",encoding='latin1')\n",
    "df_Pla.drop_duplicates(inplace=True)\n",
    "#Inserting data into bi_staging.Staging_Planzahlen\n",
    "df_Pla[\"LOAD_DTS\"] = LOAD_DTS\n",
    "df_Pla[\"SRC\"]=srcPLA\n",
    "columns_Planzahlen=['EXP Jahr', 'EXP Monat', 'EXP Verkaeufernummer', 'EXP Rebsorte', 'EXP Planstueckzahl', 'Jahr']\n",
    "df_Pla.rename(columns=dict(list(zip(columns_Planzahlen,[\"Jahr\",\"Monat\",\"Verkaeufernummer\",\"Rebsorte\",\"Stueckzahl\"]))),inplace=True)\n",
    "#except: print(\"Column Names already updated, or unexpected inputs\")\n",
    "columns_Planzahlen=['LOAD_DTS',\"Jahr\",\"Monat\",\"Verkaeufernummer\",\"Rebsorte\",\"Stueckzahl\",\"SRC\"]\n",
    "df_Pla=df_Pla[columns_Planzahlen].copy()\n",
    "PlanzahlLst= [tuple(row.values) for idx, row in df_Pla.iterrows()]"
   ]
  },
  {
   "cell_type": "code",
   "execution_count": 22,
   "metadata": {},
   "outputs": [
    {
     "name": "stdout",
     "output_type": "stream",
     "text": [
      "1050 records were added to Staging_Planzahlen\n",
      "CPU times: user 365 ms, sys: 110 ms, total: 476 ms\n",
      "Wall time: 19.1 s\n"
     ]
    }
   ],
   "source": [
    "%%time\n",
    "dvl.add2db(schema=stagingschema,tblname=tablePlanzahlen, columns=columns_Planzahlen, records=PlanzahlLst)\n",
    "\n",
    "#Freeing up memory\n",
    "del(df_Pla)\n",
    "del(PlanzahlLst)"
   ]
  },
  {
   "cell_type": "markdown",
   "metadata": {},
   "source": [
    "## Initialization of CDWH Schema and Tables"
   ]
  },
  {
   "cell_type": "markdown",
   "metadata": {},
   "source": [
    "### Table Initialization:"
   ]
  },
  {
   "cell_type": "code",
   "execution_count": 24,
   "metadata": {},
   "outputs": [
    {
     "name": "stdout",
     "output_type": "stream",
     "text": [
      "HUB was created: HUB_Kunde\n",
      "HUB was created: HUB_Verkaeufer\n",
      "HUB was created: HUB_Produkt\n",
      "HUB was created: HUB_Rebsorte\n",
      "HUB was created: HUB_Periode\n",
      "HUB was created: HUB_Auftrag\n",
      "LINK was created: LINK_Planzahl\n",
      "LINK was created: LINK_Auftrag\n",
      "LINK was created: LINK_Produkt\n",
      "SAT was created: SAT_Adresse\n",
      "SAT was created: SAT_Auftrag\n",
      "SAT was created: SAT_Verkaeufer\n",
      "SAT was created: SAT_ProduktBereich\n",
      "SAT was created: SAT_ProduktAllgemein\n",
      "SAT was created: SAT_Rebsorte\n",
      "SAT was created: SAT_Planzahl\n"
     ]
    }
   ],
   "source": [
    "try: connection.close()\n",
    "except: pass\n",
    "finally: connection, cursor= dvl.db_con()\n",
    "cdwhschema = \"bi_cdwh\"\n",
    "cursor.execute(f'''CREATE SCHEMA IF NOT EXISTS {cdwhschema};''')\n",
    "\n",
    "#HUB's\n",
    "hublst=[(\"HUB_Kunde\",\"Kundenname\",\"VARCHAR(64)\"),\n",
    "        (\"HUB_Verkaeufer\",\"Verkaeufername\",\"VARCHAR(64)\"),\n",
    "        (\"HUB_Produkt\",\"Produktbezeichnung\",\"VARCHAR(64)\"),\n",
    "        (\"HUB_Rebsorte\",\"Rebsorte\",\"VARCHAR(32)\"),\n",
    "        (\"HUB_Periode\",\"Periode\",\"VARCHAR(32)\"),#Periode is not a perfect business key, but it's structure is recognizable as YearMonth\n",
    "        (\"HUB_Auftrag\",\"Auftragsnummer\",\"INT\"),#Auftragsnummer is not a valid business key considering the DV 2.0 specs, since it is an abstract number which could mean anything\n",
    "       ]\n",
    "dvl.hub_gen(hublst=hublst)\n",
    "\n",
    "\n",
    "#LINK's\n",
    "linklst=[(\"LINK_Planzahl\",(\"HUB_Rebsorte\",\"HUB_Verkaeufer\",\"HUB_Periode\")),\n",
    "         (\"LINK_Auftrag\",(\"HUB_Kunde\",\"HUB_Produkt\",\"HUB_Verkaeufer\",\"HUB_Auftrag\")),\n",
    "         (\"LINK_Produkt\",(\"HUB_Produkt\",\"HUB_Verkaeufer\",\"HUB_Rebsorte\"))\n",
    "        ]\n",
    "dvl.link_gen(linklst=linklst)\n",
    "\n",
    "#SAT's\n",
    "dic={\n",
    "0:\"INT\",\n",
    "1:\"VARCHAR(64)\",\n",
    "2:\"CHAR(32)\",\n",
    "3:\"REAL\" \n",
    "}\n",
    "satlst=[(\"SAT_Adresse\",\"HUB_Kunde\",[(\"Kundennummer\",dic[1]),(\"Strasse\",dic[1]),(\"PLZ\",dic[1]),(\"Ort\", dic[1]),(\"BundeslandKurz\", dic[1]),(\"Bundesland\",dic[1]),(\"LandKurz\",dic[1]),(\"Land\",dic[1]),(\"Laengengrad\",dic[1]),(\"Breitengrad\",dic[1])]),\n",
    "        (\"SAT_Auftrag\",\"HUB_Auftrag\",[(\"Datum\",dic[1]),(\"Stueckzahl\",dic[0]),(\"Provisionsfaktor\",dic[3]),(\"Umsatz\",dic[3]),(\"Kosten\",dic[3])]),\n",
    "        (\"SAT_Verkaeufer\",\"HUB_Verkaeufer\",[(\"Verkaeufernummer\",dic[1])]),\n",
    "        (\"SAT_ProduktBereich\",\"HUB_Produkt\",[(\"Bereichsnummer\",dic[0]),(\"Bereichsbezeichnung\",dic[1])]),\n",
    "        (\"SAT_ProduktAllgemein\",\"HUB_Produkt\",[(\"Produktnummer\",dic[1]),(\"Verkaufspreis\",dic[3]),(\"Einkaufspreis\",dic[3]),(\"Jahrgang\",dic[0]),(\"Herkunftsland\",dic[1])]),\n",
    "        (\"SAT_Rebsorte\",\"HUB_Rebsorte\",[(\"Sortenkennzeichen\",dic[1])]),\n",
    "        (\"SAT_Planzahl\",\"LINK_Planzahl\",[(\"Stueckzahl\",dic[0])])\n",
    "        \n",
    "]\n",
    "dvl.sat_gen(satlst=satlst)"
   ]
  },
  {
   "cell_type": "markdown",
   "metadata": {},
   "source": [
    "### Importing data from CSV to Staging"
   ]
  },
  {
   "cell_type": "markdown",
   "metadata": {},
   "source": [
    "#### Loading Process:"
   ]
  },
  {
   "cell_type": "code",
   "execution_count": 25,
   "metadata": {},
   "outputs": [
    {
     "name": "stdout",
     "output_type": "stream",
     "text": [
      "Insert into HUB_Kundenname failed:\n",
      " 1062 (23000): Duplicate entry 'e99e65de8d79898560c6061460dbfc28' for key 'PRIMARY'\n",
      "Insert into HUB_Verkaeufername failed:\n",
      " 1062 (23000): Duplicate entry '3084be171bb0fd9eb55dfb1ab1ca5099' for key 'PRIMARY'\n",
      "Insert into HUB_Produktbezeichnung failed:\n",
      " 1062 (23000): Duplicate entry '38fa69832e3ac283e2fb7ba7012af415' for key 'PRIMARY'\n",
      "Insert into HUB_Rebsorte failed:\n",
      " 1062 (23000): Duplicate entry '9a759551291fa9eb0c479ba0089f09ea' for key 'PRIMARY'\n",
      "Insert into HUB_CONCAT(Jahr,Monat) failed:\n",
      " 1062 (23000): Duplicate entry 'e0613000bcd426e19c29ad052aa7ea49' for key 'PRIMARY'\n",
      "Insert into HUB_Auftragsnummer failed:\n",
      " 1062 (23000): Duplicate entry 'c4ca4238a0b923820dcc509a6f75849b' for key 'PRIMARY'\n",
      "CPU times: user 28 ms, sys: 10.7 ms, total: 38.8 ms\n",
      "Wall time: 1.43 s\n"
     ]
    }
   ],
   "source": [
    "%%time\n",
    "#Loading Data into bi_cdwh.HUB_Kunde\n",
    "cdwhtablename=\"HUB_Kunde\"\n",
    "stagingtablename=\"Staging_Auftraege\"\n",
    "columns=[\"Kundenname\",\"LOAD_DTS\",\"SRC\"]\n",
    "bk=\"Kundenname\"\n",
    "dvl.hub_insert(bk=bk, cdwhtbl=cdwhtablename,stagingtbl=stagingtablename,columns=columns)\n",
    "\n",
    "#Loading Data into bi_cdwh.HUB_Verkaeufer\n",
    "cdwhtablename=\"HUB_Verkaeufer\"\n",
    "stagingtablename=\"Staging_Auftraege\"\n",
    "columns=[\"Verkaeufername\",\"LOAD_DTS\",\"SRC\"]\n",
    "bk=\"Verkaeufername\"\n",
    "dvl.hub_insert(bk=bk, cdwhtbl=cdwhtablename,stagingtbl=stagingtablename,columns=columns)\n",
    "\n",
    "#Loading Data into bi_cdwh.HUB_Produkt\n",
    "cdwhtablename=\"HUB_Produkt\"\n",
    "stagingtablename=\"Staging_Auftraege\"\n",
    "columns=[\"Produktbezeichnung\",\"LOAD_DTS\",\"SRC\"]\n",
    "bk=\"Produktbezeichnung\"\n",
    "dvl.hub_insert(bk=bk, cdwhtbl=cdwhtablename,stagingtbl=stagingtablename,columns=columns)\n",
    "\n",
    "#Loading Data into bi_cdwh.HUB_Rebsorte\n",
    "cdwhtablename=\"HUB_Rebsorte\"\n",
    "stagingtablename=\"Staging_Auftraege\"\n",
    "columns=[\"Rebsorte\",\"LOAD_DTS\",\"SRC\"]\n",
    "bk=\"Rebsorte\"\n",
    "dvl.hub_insert(bk=bk, cdwhtbl=cdwhtablename,stagingtbl=stagingtablename,columns=columns)\n",
    "\n",
    "#Loading Data into bi_cdwh.HUB_Periode\n",
    "cdwhtablename=\"HUB_Periode\"\n",
    "stagingtablename=\"Staging_Planzahlen\"\n",
    "columns=[\"CONCAT(Jahr,Monat)\",\"LOAD_DTS\",\"SRC\"]\n",
    "bk=\"CONCAT(Jahr,Monat)\"\n",
    "dvl.hub_insert(bk=bk, cdwhtbl=cdwhtablename,stagingtbl=stagingtablename,columns=columns)\n",
    "\n",
    "#Loading Data into bi_cdwh.HUB_Auftrag\n",
    "cdwhtablename=\"HUB_Auftrag\"\n",
    "stagingtablename=\"Staging_Auftraege\"\n",
    "columns=[\"Auftragsnummer\",\"LOAD_DTS\",\"SRC\"]\n",
    "bk=\"Auftragsnummer\"\n",
    "dvl.hub_insert(bk=bk, cdwhtbl=cdwhtablename,stagingtbl=stagingtablename,columns=columns)"
   ]
  },
  {
   "cell_type": "code",
   "execution_count": 26,
   "metadata": {},
   "outputs": [
    {
     "name": "stdout",
     "output_type": "stream",
     "text": [
      "1062 (23000): Duplicate entry '278f4769a87878c778d0a89da0713c41' for key 'PRIMARY'\n",
      "CPU times: user 9.95 ms, sys: 9.85 ms, total: 19.8 ms\n",
      "Wall time: 1min 19s\n"
     ]
    }
   ],
   "source": [
    "%%time\n",
    "#Loading Data into bi_cdwh.LINK_Planzahl\n",
    "try: connection.close()\n",
    "except: pass\n",
    "finally: connection, cursor= dvl.db_con()\n",
    "fklst=[\"Rebsorte\",\"Verkaeufername\", \"CONCAT(Jahr,Monat)\"]\n",
    "cdwhtbl=\"LINK_Planzahl\"\n",
    "stagingtbl=\"Staging_Planzahlen\"\n",
    "query='''\n",
    "INSERT INTO bi_cdwh.LINK_Planzahl \n",
    "SELECT\n",
    "    MD5(\n",
    "        CONCAT(\n",
    "            MD5(SP.Rebsorte),\n",
    "            MD5(Verkaeufername),\n",
    "            MD5(CONCAT(Jahr, Monat))\n",
    "        )\n",
    "    ),\n",
    "    MD5(SP.Rebsorte),\n",
    "    MD5(Verkaeufername),\n",
    "    MD5(CONCAT(Jahr, Monat)),\n",
    "    SP.LOAD_DTS,\n",
    "    SP.SRC\n",
    "FROM\n",
    "    bi_staging.Staging_Planzahlen SP\n",
    "LEFT JOIN bi_staging.Staging_Auftraege SA ON\n",
    "    (SP.Verkaeufernummer = SA.Verkaeufernummer)\n",
    "GROUP BY\n",
    "    SP.Rebsorte,\n",
    "    Verkaeufername,\n",
    "    CONCAT(Jahr, Monat) \n",
    "    '''\n",
    "try: \n",
    "    cursor.execute(query)\n",
    "    print(f\"Insert into {cdwhtbl} was successfull\" )\n",
    "except Exception as e: print(e)"
   ]
  },
  {
   "cell_type": "code",
   "execution_count": 27,
   "metadata": {},
   "outputs": [
    {
     "name": "stdout",
     "output_type": "stream",
     "text": [
      "Something went wrong 1062 (23000): Duplicate entry '827274b13381ec54a303befeb3f38034' for key 'PRIMARY'\n",
      "Something went wrong 1062 (23000): Duplicate entry '7a92c89dbd63846f3621e9f46793ce9d' for key 'PRIMARY'\n"
     ]
    }
   ],
   "source": [
    "#Loading Data into bi_cdwh.LINK_Auftrag\n",
    "fklst=[\"Kundenname\",\"Produktbezeichnung\", \"Verkaeufername\",\"Auftragsnummer\"]\n",
    "cdwhtbl=\"LINK_Auftrag\"\n",
    "stagingtbl=\"Staging_Auftraege\"\n",
    "dvl.link_insert(cdwhtbl=cdwhtbl,stagingtbl=stagingtbl,fklst=fklst)\n",
    "\n",
    "#Loading Data into bi_cdwh.LINK_Produkt\n",
    "fklst=[\"Produktbezeichnung\",\"Verkaeufername\",\"Rebsorte\"]\n",
    "cdwhtbl=\"LINK_Produkt\"\n",
    "stagingtbl=\"Staging_Auftraege\"\n",
    "dvl.link_insert(cdwhtbl=cdwhtbl,stagingtbl=stagingtbl,fklst=fklst)"
   ]
  },
  {
   "cell_type": "code",
   "execution_count": 28,
   "metadata": {
    "tags": []
   },
   "outputs": [
    {
     "name": "stdout",
     "output_type": "stream",
     "text": [
      "Record might already be existing, otherwise follow error message:\n",
      " 1062 (23000): Duplicate entry '2021-12-02 14:51:26-e99e65de8d79898560c6061460dbfc28' for key 'PRIMARY' INSERT INTO bi_cdwh.SAT_Adresse (LOAD_DTS,HUB_Kunde_HSH,Kundennummer,Strasse,PLZ,Ort,BundeslandKurz,Bundesland,LandKurz,Land,Laengengrad,Breitengrad,SRC)\n",
      "            SELECT LOAD_DTS,MD5(Kundenname),Kundennummer,Strasse,PLZ,Ort,BundeslandKurz,Bundesland,LandKurz,Land,Laengengrad,Breitengrad,SRC\n",
      "            FROM bi_staging.Staging_Auftraege GROUP BY Kundenname;\n",
      "Record might already be existing, otherwise follow error message:\n",
      " 1062 (23000): Duplicate entry '2021-12-02 14:51:26-c4ca4238a0b923820dcc509a6f75849b' for key 'PRIMARY' INSERT INTO bi_cdwh.SAT_Auftrag (LOAD_DTS,HUB_Auftrag_HSH,Datum,Stueckzahl,Provisionsfaktor,Umsatz,Kosten,SRC)\n",
      "            SELECT LOAD_DTS,MD5(Auftragsnummer),Datum,Stueckzahl,Provisionsfaktor,Umsatz,Kosten,SRC\n",
      "            FROM bi_staging.Staging_Auftraege GROUP BY Auftragsnummer;\n",
      "Record might already be existing, otherwise follow error message:\n",
      " 1062 (23000): Duplicate entry '2021-12-02 14:51:26-38fa69832e3ac283e2fb7ba7012af415' for key 'PRIMARY' INSERT INTO bi_cdwh.SAT_ProduktAllgemein (LOAD_DTS,HUB_Produkt_HSH,Produktnummer,Verkaufspreis,Einkaufspreis,Jahrgang,Herkunftsland,SRC)\n",
      "            SELECT LOAD_DTS,MD5(Produktbezeichnung),Produktnummer,Verkaufspreis,Einkaufspreis,Jahrgang,Herkunftsland,SRC\n",
      "            FROM bi_staging.Staging_Auftraege GROUP BY Produktbezeichnung;\n",
      "Record might already be existing, otherwise follow error message:\n",
      " 1062 (23000): Duplicate entry '2021-12-02 14:51:26-38fa69832e3ac283e2fb7ba7012af415' for key 'PRIMARY' INSERT INTO bi_cdwh.SAT_ProduktBereich (LOAD_DTS,HUB_Produkt_HSH,Bereichsnummer,Bereichsbezeichnung,SRC)\n",
      "            SELECT LOAD_DTS,MD5(Produktbezeichnung),Bereichsnummer,Bereichsbezeichnung,SRC\n",
      "            FROM bi_staging.Staging_Auftraege GROUP BY Produktbezeichnung;\n",
      "Record might already be existing, otherwise follow error message:\n",
      " 1062 (23000): Duplicate entry '2021-12-02 14:51:26-9a759551291fa9eb0c479ba0089f09ea' for key 'PRIMARY' INSERT INTO bi_cdwh.SAT_Rebsorte (LOAD_DTS,HUB_Rebsorte_HSH,Sortenkennzeichen,SRC)\n",
      "            SELECT LOAD_DTS,MD5(Rebsorte),Sortenkennzeichen,SRC\n",
      "            FROM bi_staging.Staging_Auftraege GROUP BY Rebsorte;\n",
      "Record might already be existing, otherwise follow error message:\n",
      " 1062 (23000): Duplicate entry '2021-12-02 14:51:26-3084be171bb0fd9eb55dfb1ab1ca5099' for key 'PRIMARY' INSERT INTO bi_cdwh.SAT_Verkaeufer (LOAD_DTS,HUB_Verkaeufer_HSH,Verkaeufernummer,SRC)\n",
      "            SELECT LOAD_DTS,MD5(Verkaeufername),Verkaeufernummer,SRC\n",
      "            FROM bi_staging.Staging_Auftraege GROUP BY Verkaeufername;\n",
      "1062 (23000): Duplicate entry '2021-12-02 14:51:26-278f4769a87878c778d0a89da0713c41' for key 'PRIMARY' \n",
      "INSERT INTO bi_cdwh.SAT_Planzahl (LOAD_DTS, LINK_Planzahl_HSH,Stueckzahl,SRC)\n",
      "SELECT\n",
      "    SP.LOAD_DTS,\n",
      "    MD5(\n",
      "        CONCAT(\n",
      "            MD5(SP.Rebsorte),\n",
      "            MD5(Verkaeufername),\n",
      "            MD5(CONCAT(Jahr, Monat))\n",
      "        )\n",
      "    ),\n",
      "    SP.Stueckzahl,\n",
      "    SP.SRC\n",
      "FROM\n",
      "    bi_staging.Staging_Planzahlen SP LEFT JOIN bi_staging.Staging_Auftraege SA ON\n",
      "    SP.Verkaeufernummer = SA.Verkaeufernummer\n",
      "GROUP BY\n",
      "    SP.Rebsorte,\n",
      "    Verkaeufername,\n",
      "    Jahr,\n",
      "    Monat;\n",
      "CPU times: user 39.9 ms, sys: 10.3 ms, total: 50.2 ms\n",
      "Wall time: 1min 2s\n"
     ]
    }
   ],
   "source": [
    "%%time\n",
    "#Loading Data into SAT_Adresse\n",
    "columns=[\"Kundennummer\",\"Strasse\",\"PLZ\",\"Ort\",\"BundeslandKurz\",\"Bundesland\",\"LandKurz\",\"Land\",\"Laengengrad\",\"Breitengrad\"]\n",
    "bk=\"Kundenname\"\n",
    "cdwhtbl=\"SAT_Adresse\"\n",
    "stagingtbl=\"Staging_Auftraege\"\n",
    "dvl.sat_insert(bk=bk,columns=columns,cdwhtbl=cdwhtbl,stagingtbl=stagingtbl,hub=\"HUB_Kunde\")\n",
    "\n",
    "#Loading Data into SAT_Auftrag\n",
    "columns=[\"Datum\",\"Stueckzahl\",\"Provisionsfaktor\",\"Umsatz\",\"Kosten\"]\n",
    "bk=\"Auftragsnummer\"\n",
    "cdwhtbl=\"SAT_Auftrag\"\n",
    "stagingtbl=\"Staging_Auftraege\"\n",
    "dvl.sat_insert(bk=bk,columns=columns,cdwhtbl=cdwhtbl,stagingtbl=stagingtbl,hub=\"HUB_Auftrag\")\n",
    "\n",
    "#Loading Data into SAT_ProduktAllgemein\n",
    "columns=[\"Produktnummer\",\"Verkaufspreis\",\"Einkaufspreis\",\"Jahrgang\",\"Herkunftsland\"]\n",
    "bk=\"Produktbezeichnung\"\n",
    "cdwhtbl=\"SAT_ProduktAllgemein\"\n",
    "stagingtbl=\"Staging_Auftraege\"\n",
    "dvl.sat_insert(bk=bk,columns=columns,cdwhtbl=cdwhtbl,stagingtbl=stagingtbl,hub=\"HUB_Produkt\")\n",
    "\n",
    "#Loading Data into SAT_ProduktBereich\n",
    "columns=[\"Bereichsnummer\",\"Bereichsbezeichnung\"]\n",
    "bk=\"Produktbezeichnung\"\n",
    "cdwhtbl=\"SAT_ProduktBereich\"\n",
    "stagingtbl=\"Staging_Auftraege\"\n",
    "dvl.sat_insert(bk=bk,columns=columns,cdwhtbl=cdwhtbl,stagingtbl=stagingtbl,hub=\"HUB_Produkt\")\n",
    "\n",
    "#Loading Data into SAT_Rebsorte\n",
    "columns=[\"Sortenkennzeichen\"]\n",
    "bk=\"Rebsorte\"\n",
    "cdwhtbl=\"SAT_Rebsorte\"\n",
    "stagingtbl=\"Staging_Auftraege\"\n",
    "dvl.sat_insert(bk=bk,columns=columns,cdwhtbl=cdwhtbl,stagingtbl=stagingtbl,hub=\"HUB_Rebsorte\")\n",
    "\n",
    "#Loading Data into SAT_Verkaeufer\n",
    "columns=[\"Verkaeufernummer\"]\n",
    "bk=\"Verkaeufername\"\n",
    "cdwhtbl=\"SAT_Verkaeufer\"\n",
    "stagingtbl=\"Staging_Auftraege\"\n",
    "dvl.sat_insert(bk=bk,columns=columns,cdwhtbl=cdwhtbl,stagingtbl=stagingtbl,hub=\"HUB_Verkaeufer\")\n",
    "\n",
    "#Loading Data into SAT_Planzahl (Custome Query needed since sat_insert is only made for HUB_SAT's, not for LINK_SAT's)\n",
    "columns=[\"Stueckzahl\"]\n",
    "bk=[\"Rebsorte\",\"Verkaeufername\",\"Jahr\",\"Monat\"]\n",
    "cdwhtbl=\"SAT_Planzahl\"\n",
    "stagingtbl=\"Staging_Planzahlen\"\n",
    "stagingschema=\"Staging_Planzahlen\"\n",
    "query=f'''\n",
    "INSERT INTO bi_cdwh.{cdwhtbl} (LOAD_DTS, LINK_Planzahl_HSH,Stueckzahl,SRC)\n",
    "SELECT\n",
    "    SP.LOAD_DTS,\n",
    "    MD5(\n",
    "        CONCAT(\n",
    "            MD5(SP.Rebsorte),\n",
    "            MD5(Verkaeufername),\n",
    "            MD5(CONCAT(Jahr, Monat))\n",
    "        )\n",
    "    ),\n",
    "    SP.Stueckzahl,\n",
    "    SP.SRC\n",
    "FROM\n",
    "    bi_staging.Staging_Planzahlen SP LEFT JOIN bi_staging.Staging_Auftraege SA ON\n",
    "    SP.Verkaeufernummer = SA.Verkaeufernummer\n",
    "GROUP BY\n",
    "    SP.Rebsorte,\n",
    "    Verkaeufername,\n",
    "    Jahr,\n",
    "    Monat;'''\n",
    "try: \n",
    "    cursor.execute(query)\n",
    "    print(f\"Insert into {cdwhtbl} was successfull\")\n",
    "except Exception as e: print(e,query)\n",
    "connection.commit()"
   ]
  },
  {
   "cell_type": "code",
   "execution_count": 61,
   "metadata": {
    "tags": []
   },
   "outputs": [],
   "source": [
    "def execQuery(query):\n",
    "    try: \n",
    "        cursor.execute(query)\n",
    "        print(f\"Query successfull\")\n",
    "    except Exception as e: print(e,query)\n",
    "    connection.commit()\n",
    "\n"
   ]
  },
  {
   "cell_type": "code",
   "execution_count": null,
   "metadata": {},
   "outputs": [],
   "source": []
  },
  {
   "cell_type": "markdown",
   "metadata": {},
   "source": [
    "# Reporting Datamart\n"
   ]
  },
  {
   "cell_type": "code",
   "execution_count": 62,
   "metadata": {},
   "outputs": [],
   "source": [
    "class Reporting_Datamart:\n",
    "    query_create = \"\"\"\n",
    "    CREATE Table IF NOT EXISTS bi_datamart.Reporting_datamart( \n",
    "    Produktbezeichnung varchar(64),\n",
    "    Verkaeufername varchar(64),\n",
    "    Kundenname varchar(64),\n",
    "    Datum timestamp,\n",
    "    Jahr int,\n",
    "    Monat int,\n",
    "    Umsatz double,\n",
    "    Land varchar(64),\n",
    "    Laengengrad double, \n",
    "    Breitengrad double, \n",
    "    Stueckzahl int,\n",
    "    Rebsorte varchar(64));\n",
    "    \"\"\"\n",
    "\n",
    "    truncat_query = \"TRUNCATE Table bi_datamart.Reporting_datamart;\"\n",
    "\n",
    "    insert_query=\"\"\"\n",
    "    \n",
    "    INSERT INTO bi_datamart.Reporting_datamart\n",
    "\n",
    "    SELECT Distinct Produktbezeichnung, Verkaeufername, Kundenname, STR_TO_DATE(Datum, '%d.%m.%Y') AS Auftragsdatum, \n",
    "    YEAR(STR_TO_DATE(Datum, '%d.%m.%Y')) As Jahr,\n",
    "    MONTH(STR_TO_DATE(Datum, '%d.%m.%Y')) As Monat, Umsatz, LAND, Laengengrad, Breitengrad, Stueckzahl, Rebsorte\n",
    "    FROM bi_cdwh.LINK_Auftrag \n",
    "\n",
    "    # Join Hubs \n",
    "    JOIN(bi_cdwh.HUB_Produkt,bi_cdwh.HUB_Auftrag, bi_cdwh.HUB_Kunde, bi_cdwh.HUB_Verkaeufer)\n",
    "    ON \n",
    "    (LINK_Auftrag.HUB_Produkt_HSH = HUB_Produkt.HUB_Produkt_HSH \n",
    "    AND LINK_Auftrag.HUB_Auftrag_HSH = HUB_Auftrag.HUB_Auftrag_HSH AND\n",
    "    LINK_Auftrag.HUB_Kunde_HSH = HUB_Kunde.HUB_Kunde_HSH AND \n",
    "    LINK_Auftrag.HUB_Verkaeufer_HSH = HUB_Verkaeufer.HUB_Verkaeufer_HSH) \n",
    "\n",
    "    # Join Sat\n",
    "    JOIN(bi_cdwh.SAT_Auftrag) ON (HUB_Auftrag.HUB_Auftrag_HSH = SAT_Auftrag.HUB_Auftrag_HSH)\n",
    "    JOIN(bi_cdwh.SAT_Adresse) ON(HUB_Kunde.HUB_Kunde_HSH = SAT_Adresse.HUB_Kunde_HSH)\n",
    "\n",
    "    Join bi_cdwh.LINK_Produkt ON(LINK_Produkt.HUB_Produkt_HSH = HUB_Produkt.HUB_Produkt_HSH )\n",
    "    Join bi_cdwh.HUB_Rebsorte ON(LINK_Produkt.HUB_Rebsorte_HSH = HUB_Rebsorte.HUB_Rebsorte_HSH);\n",
    "    \"\"\"\n",
    "\n"
   ]
  },
  {
   "cell_type": "code",
   "execution_count": 63,
   "metadata": {},
   "outputs": [
    {
     "name": "stdout",
     "output_type": "stream",
     "text": [
      "Insert into was successfull\n",
      "Insert into was successfull\n",
      "Insert into was successfull\n"
     ]
    }
   ],
   "source": [
    "query_schema = f'''\n",
    "CREATE SCHEMA IF NOT EXISTS bi_datamart;\n",
    "'''\n",
    "\n",
    "execQuery(query_schema)\n",
    "execQuery(Reporting_Datamart.query_create)\n",
    "execQuery(Reporting_Datamart.truncat_query)\n",
    "execQuery(Reporting_Datamart.insert_query)\n"
   ]
  },
  {
   "cell_type": "markdown",
   "metadata": {
    "tags": []
   },
   "source": [
    "# Pre Planning Datamart"
   ]
  },
  {
   "cell_type": "code",
   "execution_count": 64,
   "metadata": {},
   "outputs": [],
   "source": [
    "class PrePlanning_Datamart:\n",
    "    query_create = f\"\"\"\n",
    "    CREATE TABLE IF NOT EXISTS bi_datamart.PrePlanning_datamart (\n",
    "    Rebsorte varchar(64), \n",
    "    EXP_Stueck int, \n",
    "    EXP_Jahr int,\n",
    "    EXP_Monat int, \n",
    "    Verkaeufername varchar(64));\n",
    "    \"\"\"\n",
    "    truncat_query = \"TRUNCATE Table bi_datamart.PrePlanning_datamart;\"\n",
    "    \n",
    "    insert_query = f\"\"\"\n",
    "    INSERT Into bi_datamart.PrePlanning_datamart\n",
    "    Select Distinct  Rebsorte, SAT_Planzahl.Stueckzahl AS EXP_Stueck, CONVERT(SUBSTRING(Periode,1, 4), INTEGER) AS EXP_Jahr,    \n",
    "    CONVERT(SUBSTRING(Periode,5,2),INTEGER) AS EXP_Monat, Verkaeufername \n",
    "\n",
    "    From bi_cdwh.LINK_Planzahl\n",
    "\n",
    "    JOIN bi_cdwh.SAT_Planzahl On(LINK_Planzahl.LINK_Planzahl_HSH = SAT_Planzahl.LINK_Planzahl_HSH)\n",
    "    JOIN bi_cdwh.HUB_Periode ON (LINK_Planzahl.HUB_Periode_HSH = HUB_Periode.HUB_Periode_HSH)\n",
    "    JOIN bi_cdwh.HUB_Rebsorte ON (LINK_Planzahl.HUB_Rebsorte_HSH = HUB_Rebsorte.HUB_Rebsorte_HSH)\n",
    "    JOIN bi_cdwh.HUB_Verkaeufer ON (LINK_Planzahl.HUB_Verkaeufer_HSH = HUB_Verkaeufer.HUB_Verkaeufer_HSH)\n",
    "\n",
    "    JOIN bi_cdwh.LINK_Produkt ON(LINK_Produkt.HUB_Rebsorte_HSH = HUB_Rebsorte.HUB_Rebsorte_HSH);\n",
    "    \"\"\""
   ]
  },
  {
   "cell_type": "code",
   "execution_count": 65,
   "metadata": {},
   "outputs": [
    {
     "name": "stdout",
     "output_type": "stream",
     "text": [
      "Insert into was successfull\n",
      "Insert into was successfull\n",
      "Insert into was successfull\n"
     ]
    }
   ],
   "source": [
    "execQuery(PrePlanning_Datamart.query_create)\n",
    "execQuery(PrePlanning_Datamart.truncat_query)\n",
    "execQuery(PrePlanning_Datamart.insert_query)\n"
   ]
  },
  {
   "cell_type": "markdown",
   "metadata": {},
   "source": [
    "# Planning Datamart"
   ]
  },
  {
   "cell_type": "code",
   "execution_count": 66,
   "metadata": {},
   "outputs": [],
   "source": [
    "class Planning_Datamart:\n",
    "    query_create = f\"\"\"\n",
    "    CREATE TABLE IF NOT EXISTS bi_datamart.Planning_datamart (\n",
    "    Verkaeufername varchar(64),\n",
    "    Rebsorte varchar(64),\n",
    "    EXP_Stueck int, \n",
    "    Absatz int,\n",
    "    EXP_Monat int, \n",
    "    EXP_Jahr int);\"\"\"\n",
    "\n",
    "    truncat_query = \"TRUNCATE Table bi_datamart.Planning_datamart;\"\n",
    "    \n",
    "    insert_query = \"\"\"\n",
    "\n",
    "    INSERT Into bi_datamart.Planning_datamart\n",
    "    SELECT PrePlanning_datamart.Verkaeufername, PrePlanning_datamart.Rebsorte, EXP_Stueck, sum(Stueckzahl) AS Absatz , \n",
    "    EXP_Monat, EXP_Jahr \n",
    "\n",
    "    FROM bi_datamart.PrePlanning_datamart \n",
    "\n",
    "    Left JOIN bi_datamart.Reporting_datamart \n",
    "    ON (Reporting_datamart.Verkaeufername = PrePlanning_datamart.Verkaeufername \n",
    "    AND Reporting_datamart.Rebsorte = PrePlanning_datamart.Rebsorte \n",
    "    AND Reporting_datamart.Monat = PrePlanning_datamart.EXP_Monat \n",
    "    AND  Reporting_datamart.Jahr = PrePlanning_datamart.EXP_Jahr)\n",
    "\n",
    "    Group by PrePlanning_datamart.Rebsorte, PrePlanning_datamart.Verkaeufername, EXP_Monat, EXP_Jahr;\n",
    "    \"\"\"  "
   ]
  },
  {
   "cell_type": "code",
   "execution_count": 68,
   "metadata": {},
   "outputs": [
    {
     "name": "stdout",
     "output_type": "stream",
     "text": [
      "Insert into was successfull\n",
      "Insert into was successfull\n",
      "Insert into was successfull\n"
     ]
    }
   ],
   "source": [
    "\n",
    "execQuery(Planning_Datamart.query_create)\n",
    "execQuery(Planning_Datamart.truncat_query)\n",
    "execQuery(Planning_Datamart.insert_query)\n"
   ]
  },
  {
   "cell_type": "code",
   "execution_count": null,
   "metadata": {},
   "outputs": [],
   "source": []
  }
 ],
 "metadata": {
  "kernelspec": {
   "display_name": "bi38",
   "language": "python",
   "name": "bi38"
  },
  "language_info": {
   "codemirror_mode": {
    "name": "ipython",
    "version": 3
   },
   "file_extension": ".py",
   "mimetype": "text/x-python",
   "name": "python",
   "nbconvert_exporter": "python",
   "pygments_lexer": "ipython3",
   "version": "3.9.7"
  }
 },
 "nbformat": 4,
 "nbformat_minor": 4
}
